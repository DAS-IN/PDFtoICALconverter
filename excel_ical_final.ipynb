{
 "cells": [
  {
   "cell_type": "code",
   "execution_count": 7,
   "metadata": {},
   "outputs": [
    {
     "ename": "ModuleNotFoundError",
     "evalue": "No module named 'pandas'",
     "output_type": "error",
     "traceback": [
      "\u001b[0;31m---------------------------------------------------------------------------\u001b[0m",
      "\u001b[0;31mModuleNotFoundError\u001b[0m                       Traceback (most recent call last)",
      "Cell \u001b[0;32mIn [7], line 1\u001b[0m\n\u001b[0;32m----> 1\u001b[0m \u001b[39mimport\u001b[39;00m \u001b[39mpandas\u001b[39;00m \u001b[39mas\u001b[39;00m \u001b[39mpd\u001b[39;00m\n\u001b[1;32m      2\u001b[0m \u001b[39mfrom\u001b[39;00m \u001b[39micalendar\u001b[39;00m \u001b[39mimport\u001b[39;00m Calendar, Event\n\u001b[1;32m      4\u001b[0m excel_file \u001b[39m=\u001b[39m \u001b[39m'\u001b[39m\u001b[39m/Users/andre/Documents/DAS Projects/test.xlsx\u001b[39m\u001b[39m'\u001b[39m \u001b[39m#input directory where xlsx file is here\u001b[39;00m\n",
      "\u001b[0;31mModuleNotFoundError\u001b[0m: No module named 'pandas'"
     ]
    }
   ],
   "source": [
    "import pandas as pd\n",
    "from icalendar import Calendar, Event\n",
    "\n",
    "excel_file = '/Users/andre/Documents/DAS Projects/test.xlsx' #input directory where xlsx file is here\n",
    "\n",
    "ical_file = '/Users/andre/Documents/DAS Projects/test.xlsx/test.ics' #input directory to save the ics file to here\n",
    "\n",
    "#xlsx as dataframe\n",
    "df = pd.read_excel(excel_file)\n"
   ]
  },
  {
   "cell_type": "code",
   "execution_count": null,
   "metadata": {},
   "outputs": [],
   "source": [
    "cal = Calendar()\n",
    "\n",
    "cal.add('prodid', '-//My Calendar//mxm.dk//')\n",
    "cal.add('version', '2.0')\n",
    "\n",
    "#over rows of dataframe\n",
    "for index, row in df.iterrows():\n",
    "  subject = row['subject']\n",
    "  start_time = row['start_time']\n",
    "  end_time = row['end_time']\n",
    "  location = row['location']\n",
    "  \n",
    "  # Create an event\n",
    "  event = Event()\n",
    "  \n",
    "  # Set the event properties\n",
    "  event.add('summary', subject)\n",
    "  event.add('dtstart', start_time)\n",
    "  event.add('dtend', end_time)\n",
    "  event.add('location', location)\n",
    "  \n",
    "  # Add event to the calendar\n",
    "  cal.add_component(event)\n",
    "\n",
    "# write to iCal file\n",
    "with open(ical_file, 'wb') as f:\n",
    "  f.write(cal.to_ical())"
   ]
  }
 ],
 "metadata": {
  "kernelspec": {
   "display_name": "Python 3.10.6 64-bit ('3.10.6')",
   "language": "python",
   "name": "python3"
  },
  "language_info": {
   "codemirror_mode": {
    "name": "ipython",
    "version": 3
   },
   "file_extension": ".py",
   "mimetype": "text/x-python",
   "name": "python",
   "nbconvert_exporter": "python",
   "pygments_lexer": "ipython3",
   "version": "3.10.6"
  },
  "orig_nbformat": 4,
  "vscode": {
   "interpreter": {
    "hash": "f36e5f7b9ff632695c26dc61d70f112d661eeff31fabda76364a38af5373652e"
   }
  }
 },
 "nbformat": 4,
 "nbformat_minor": 2
}
